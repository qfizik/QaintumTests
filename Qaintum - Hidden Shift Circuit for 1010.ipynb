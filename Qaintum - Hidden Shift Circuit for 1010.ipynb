{
 "cells": [
  {
   "cell_type": "code",
   "execution_count": 1,
   "id": "voluntary-abortion",
   "metadata": {},
   "outputs": [],
   "source": [
    "using Qaintessent\n",
    "using LinearAlgebra\n",
    "using Random"
   ]
  },
  {
   "cell_type": "code",
   "execution_count": 4,
   "id": "vital-secretary",
   "metadata": {},
   "outputs": [
    {
     "name": "stdout",
     "output_type": "stream",
     "text": [
      "\n",
      "    4 —[H ]——[X ]———•————[X ]——[H ]———•————[H ]—\n",
      "                    |                 |         \n",
      "    3 —[H ]————————[Z ]————————[H ]——[Z ]——[H ]—\n",
      "                                                \n",
      "    2 —[H ]——[X ]———•————[X ]——[H ]———•————[H ]—\n",
      "                    |                 |         \n",
      "    1 —[H ]——[X ]——[Z ]——[X ]——[H ]——[Z ]——[H ]—\n",
      "\n"
     ]
    }
   ],
   "source": [
    "HS_circuit = CircuitGate[\n",
    "    circuit_gate(1, HadamardGate()),\n",
    "    circuit_gate(2, HadamardGate()),\n",
    "    circuit_gate(3, HadamardGate()),\n",
    "    circuit_gate(4, HadamardGate()),\n",
    "    circuit_gate(1, XGate()),\n",
    "    circuit_gate(2, XGate()),\n",
    "    circuit_gate(4, XGate()),\n",
    "    circuit_gate(1, ZGate(),2),\n",
    "    circuit_gate(3, ZGate(),4),\n",
    "    circuit_gate(1, XGate()),\n",
    "    circuit_gate(2, XGate()),\n",
    "    circuit_gate(4, XGate()),\n",
    "    circuit_gate(1, HadamardGate()),\n",
    "    circuit_gate(2, HadamardGate()),\n",
    "    circuit_gate(3, HadamardGate()),\n",
    "    circuit_gate(4, HadamardGate()),\n",
    "    circuit_gate(1, ZGate(),2),\n",
    "    circuit_gate(3, ZGate(),4),\n",
    "    circuit_gate(1, HadamardGate()),\n",
    "    circuit_gate(2, HadamardGate()),\n",
    "    circuit_gate(3, HadamardGate()),\n",
    "    circuit_gate(4, HadamardGate()),\n",
    "    \n",
    "        \n",
    "    ]\n",
    "        \n",
    "           \n",
    "meas = [MeasurementOperator(X, (1)),\n",
    "        MeasurementOperator(X, (2)),\n",
    "        MeasurementOperator(X, (3)),\n",
    "        MeasurementOperator(X, (4))]\n",
    "    \n",
    "c = Circuit{4}(HS_circuit, meas)\n",
    "    println(c) "
   ]
  },
  {
   "cell_type": "code",
   "execution_count": 11,
   "id": "identical-second",
   "metadata": {},
   "outputs": [
    {
     "data": {
      "text/plain": [
       "16-element Array{Complex{Float64},1}:\n",
       " 1.0 + 0.0im\n",
       " 0.0 + 0.0im\n",
       " 0.0 + 0.0im\n",
       " 0.0 + 0.0im\n",
       " 0.0 + 0.0im\n",
       " 0.0 + 0.0im\n",
       " 0.0 + 0.0im\n",
       " 0.0 + 0.0im\n",
       " 0.0 + 0.0im\n",
       " 0.0 + 0.0im\n",
       " 0.0 + 0.0im\n",
       " 0.0 + 0.0im\n",
       " 0.0 + 0.0im\n",
       " 0.0 + 0.0im\n",
       " 0.0 + 0.0im\n",
       " 0.0 + 0.0im"
      ]
     },
     "execution_count": 11,
     "metadata": {},
     "output_type": "execute_result"
    }
   ],
   "source": [
    "ψ = kron(ComplexF64[1,0], [1,0], [1,0], [1,0])"
   ]
  },
  {
   "cell_type": "code",
   "execution_count": 13,
   "id": "ceramic-festival",
   "metadata": {},
   "outputs": [
    {
     "data": {
      "text/plain": [
       "4-element Array{Float64,1}:\n",
       " 0.0\n",
       " 0.0\n",
       " 0.0\n",
       " 0.0"
      ]
     },
     "execution_count": 13,
     "metadata": {},
     "output_type": "execute_result"
    }
   ],
   "source": [
    "apply(c, ψ)"
   ]
  }
 ],
 "metadata": {
  "kernelspec": {
   "display_name": "Julia 1.5.3",
   "language": "julia",
   "name": "julia-1.5"
  },
  "language_info": {
   "file_extension": ".jl",
   "mimetype": "application/julia",
   "name": "julia",
   "version": "1.5.3"
  }
 },
 "nbformat": 4,
 "nbformat_minor": 5
}
