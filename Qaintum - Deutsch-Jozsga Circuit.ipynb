{
 "cells": [
  {
   "cell_type": "code",
   "execution_count": 1,
   "id": "activated-institute",
   "metadata": {},
   "outputs": [],
   "source": [
    "using Qaintessent\n",
    "using LinearAlgebra\n",
    "using Random"
   ]
  },
  {
   "cell_type": "code",
   "execution_count": 3,
   "id": "nearby-hopkins",
   "metadata": {},
   "outputs": [
    {
     "name": "stdout",
     "output_type": "stream",
     "text": [
      "\n",
      "    4 —[H ]——[X ]———•————————————————[X ]——[H ]—\n",
      "                    |                           \n",
      "    3 —[H ]———————————————•——————————[H ]———————\n",
      "                    |     |                     \n",
      "    2 —[H ]——[X ]———————————————•————[X ]——[H ]—\n",
      "                    |     |     |               \n",
      "    1 —[X ]——[H ]——[X ]——[X ]——[X ]—————————————\n",
      "\n"
     ]
    }
   ],
   "source": [
    "DJ_circuit = CircuitGate[\n",
    "    circuit_gate(1, XGate()),\n",
    "    circuit_gate(2, HadamardGate()),\n",
    "    circuit_gate(3, HadamardGate()),\n",
    "    circuit_gate(4, HadamardGate()),\n",
    "    circuit_gate(1, HadamardGate()),\n",
    "    circuit_gate(2, XGate()),\n",
    "    circuit_gate(4, XGate()),\n",
    "    circuit_gate(1, XGate(),4),\n",
    "    circuit_gate(1, XGate(),3),\n",
    "    circuit_gate(1, XGate(),2),\n",
    "    circuit_gate(2, XGate()),\n",
    "    circuit_gate(3, HadamardGate()),\n",
    "    circuit_gate(4, XGate()),\n",
    "    circuit_gate(2, HadamardGate()),\n",
    "    circuit_gate(4, HadamardGate()),\n",
    "    \n",
    "    ]\n",
    "        \n",
    "           \n",
    "meas = [MeasurementOperator(X, (4)),\n",
    "        MeasurementOperator(X, (3)),\n",
    "        MeasurementOperator(X, (2)),\n",
    "        ]\n",
    "    \n",
    "c = Circuit{4}(DJ_circuit, meas)\n",
    "    println(c) "
   ]
  },
  {
   "cell_type": "code",
   "execution_count": null,
   "id": "major-participation",
   "metadata": {},
   "outputs": [],
   "source": []
  }
 ],
 "metadata": {
  "kernelspec": {
   "display_name": "Julia 1.5.3",
   "language": "julia",
   "name": "julia-1.5"
  },
  "language_info": {
   "file_extension": ".jl",
   "mimetype": "application/julia",
   "name": "julia",
   "version": "1.5.3"
  }
 },
 "nbformat": 4,
 "nbformat_minor": 5
}
